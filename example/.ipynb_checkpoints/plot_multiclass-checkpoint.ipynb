{
 "cells": [
  {
   "cell_type": "code",
   "execution_count": 1,
   "metadata": {
    "scrolled": false
   },
   "outputs": [
    {
     "name": "stderr",
     "output_type": "stream",
     "text": [
      "Using TensorFlow backend.\n"
     ]
    },
    {
     "name": "stdout",
     "output_type": "stream",
     "text": [
      "GD\n"
     ]
    },
    {
     "name": "stderr",
     "output_type": "stream",
     "text": [
      "tr_error : 2.011778, regularizer : 4.4387641e-06, te_error : 2.006098 :  33%|███▎      | 3/9 [00:03<00:07,  1.19s/it]"
     ]
    },
    {
     "name": "stdout",
     "output_type": "stream",
     "text": [
      " \n"
     ]
    },
    {
     "name": "stderr",
     "output_type": "stream",
     "text": [
      "tr_error : 1.853078, regularizer : 1.1374725e-05, te_error : 1.844297 :  56%|█████▌    | 5/9 [00:05<00:04,  1.20s/it]"
     ]
    },
    {
     "name": "stdout",
     "output_type": "stream",
     "text": [
      " \n"
     ]
    },
    {
     "name": "stderr",
     "output_type": "stream",
     "text": [
      "tr_error : 1.716706, regularizer : 2.0660183e-05, te_error : 1.705263 :  78%|███████▊  | 7/9 [00:08<00:02,  1.27s/it]"
     ]
    },
    {
     "name": "stdout",
     "output_type": "stream",
     "text": [
      " \n"
     ]
    },
    {
     "name": "stderr",
     "output_type": "stream",
     "text": [
      "tr_error : 1.599570, regularizer : 3.1717573e-05, te_error : 1.585870 : 100%|██████████| 9/9 [00:11<00:00,  1.32s/it]\n"
     ]
    },
    {
     "name": "stdout",
     "output_type": "stream",
     "text": [
      " \n",
      "AGD\n"
     ]
    },
    {
     "name": "stderr",
     "output_type": "stream",
     "text": [
      "tr_error : 2.074279, regularizer : 2.6677146e-06, te_error : 2.069829 :  33%|███▎      | 3/9 [00:03<00:06,  1.17s/it]"
     ]
    },
    {
     "name": "stdout",
     "output_type": "stream",
     "text": [
      " \n"
     ]
    },
    {
     "name": "stderr",
     "output_type": "stream",
     "text": [
      "tr_error : 1.800082, regularizer : 1.4607740e-05, te_error : 1.790329 :  56%|█████▌    | 5/9 [00:05<00:04,  1.16s/it]"
     ]
    },
    {
     "name": "stdout",
     "output_type": "stream",
     "text": [
      " \n"
     ]
    },
    {
     "name": "stderr",
     "output_type": "stream",
     "text": [
      "tr_error : 1.525327, regularizer : 4.0651389e-05, te_error : 1.510309 :  78%|███████▊  | 7/9 [00:08<00:02,  1.24s/it]"
     ]
    },
    {
     "name": "stdout",
     "output_type": "stream",
     "text": [
      " \n"
     ]
    },
    {
     "name": "stderr",
     "output_type": "stream",
     "text": [
      "tr_error : 1.285095, regularizer : 8.2786393e-05, te_error : 1.265746 : 100%|██████████| 9/9 [00:11<00:00,  1.23s/it]\n"
     ]
    },
    {
     "name": "stdout",
     "output_type": "stream",
     "text": [
      " \n",
      "SGD\n"
     ]
    },
    {
     "name": "stderr",
     "output_type": "stream",
     "text": [
      "tr_error : 3.266631, regularizer : 6.4484472e-06, te_error : 3.287976 :  33%|███▎      | 3/9 [00:02<00:05,  1.06it/s]"
     ]
    },
    {
     "name": "stdout",
     "output_type": "stream",
     "text": [
      " \n"
     ]
    },
    {
     "name": "stderr",
     "output_type": "stream",
     "text": [
      "tr_error : 2.849639, regularizer : 7.3617014e-06, te_error : 2.862669 :  56%|█████▌    | 5/9 [00:04<00:03,  1.06it/s]"
     ]
    },
    {
     "name": "stdout",
     "output_type": "stream",
     "text": [
      " \n"
     ]
    },
    {
     "name": "stderr",
     "output_type": "stream",
     "text": [
      "tr_error : 2.666691, regularizer : 7.6639863e-06, te_error : 2.672326 :  78%|███████▊  | 7/9 [00:06<00:02,  1.01s/it]"
     ]
    },
    {
     "name": "stdout",
     "output_type": "stream",
     "text": [
      " \n"
     ]
    },
    {
     "name": "stderr",
     "output_type": "stream",
     "text": [
      "tr_error : 2.295047, regularizer : 8.3185597e-06, te_error : 2.286474 : 100%|██████████| 9/9 [00:08<00:00,  1.02it/s]\n"
     ]
    },
    {
     "name": "stdout",
     "output_type": "stream",
     "text": [
      " \n",
      "Minibatch-SGD\n"
     ]
    },
    {
     "name": "stderr",
     "output_type": "stream",
     "text": [
      "tr_error : 2.079330, regularizer : 2.6363939e-06, te_error : 2.073560 :  33%|███▎      | 3/9 [00:02<00:05,  1.01it/s]"
     ]
    },
    {
     "name": "stdout",
     "output_type": "stream",
     "text": [
      " \n"
     ]
    },
    {
     "name": "stderr",
     "output_type": "stream",
     "text": [
      "tr_error : 1.996029, regularizer : 5.0779528e-06, te_error : 1.988827 :  56%|█████▌    | 5/9 [00:04<00:03,  1.00it/s]"
     ]
    },
    {
     "name": "stdout",
     "output_type": "stream",
     "text": [
      " \n"
     ]
    },
    {
     "name": "stderr",
     "output_type": "stream",
     "text": [
      "tr_error : 1.931927, regularizer : 7.5442755e-06, te_error : 1.923605 :  78%|███████▊  | 7/9 [00:06<00:01,  1.01it/s]"
     ]
    },
    {
     "name": "stdout",
     "output_type": "stream",
     "text": [
      " \n"
     ]
    },
    {
     "name": "stderr",
     "output_type": "stream",
     "text": [
      "tr_error : 1.879081, regularizer : 1.0060500e-05, te_error : 1.869654 : 100%|██████████| 9/9 [00:08<00:00,  1.02it/s]\n"
     ]
    },
    {
     "name": "stdout",
     "output_type": "stream",
     "text": [
      " \n",
      "SVRG\n"
     ]
    },
    {
     "name": "stderr",
     "output_type": "stream",
     "text": [
      "tr_error : 2.015353, regularizer : 4.3171661e-06, te_error : 2.009706 :  33%|███▎      | 3/9 [00:04<00:08,  1.38s/it]"
     ]
    },
    {
     "name": "stdout",
     "output_type": "stream",
     "text": [
      " \n"
     ]
    },
    {
     "name": "stderr",
     "output_type": "stream",
     "text": [
      "tr_error : 1.858076, regularizer : 1.1085930e-05, te_error : 1.849331 :  56%|█████▌    | 5/9 [00:06<00:05,  1.38s/it]"
     ]
    },
    {
     "name": "stdout",
     "output_type": "stream",
     "text": [
      " \n"
     ]
    },
    {
     "name": "stderr",
     "output_type": "stream",
     "text": [
      "tr_error : 1.723872, regularizer : 2.0057548e-05, te_error : 1.712454 :  78%|███████▊  | 7/9 [00:09<00:02,  1.37s/it]"
     ]
    },
    {
     "name": "stdout",
     "output_type": "stream",
     "text": [
      " \n"
     ]
    },
    {
     "name": "stderr",
     "output_type": "stream",
     "text": [
      "tr_error : 1.607249, regularizer : 3.0862530e-05, te_error : 1.593639 : 100%|██████████| 9/9 [00:12<00:00,  1.38s/it]\n"
     ]
    },
    {
     "name": "stdout",
     "output_type": "stream",
     "text": [
      " \n",
      "L-BFGS\n"
     ]
    },
    {
     "name": "stderr",
     "output_type": "stream",
     "text": [
      "tr_error : 1.432940, regularizer : 5.6626383e-05, te_error : 1.415378 :  33%|███▎      | 3/9 [00:11<00:22,  3.82s/it]"
     ]
    },
    {
     "name": "stdout",
     "output_type": "stream",
     "text": [
      " \n"
     ]
    },
    {
     "name": "stderr",
     "output_type": "stream",
     "text": [
      "tr_error : 1.144850, regularizer : 1.2198236e-04, te_error : 1.123376 :  56%|█████▌    | 5/9 [00:18<00:14,  3.59s/it]"
     ]
    },
    {
     "name": "stdout",
     "output_type": "stream",
     "text": [
      " \n"
     ]
    },
    {
     "name": "stderr",
     "output_type": "stream",
     "text": [
      "tr_error : 0.969715, regularizer : 1.9517744e-04, te_error : 0.946040 :  78%|███████▊  | 7/9 [00:25<00:06,  3.50s/it]"
     ]
    },
    {
     "name": "stdout",
     "output_type": "stream",
     "text": [
      " \n"
     ]
    },
    {
     "name": "stderr",
     "output_type": "stream",
     "text": [
      "tr_error : 0.778996, regularizer : 3.7108796e-04, te_error : 0.756211 : 100%|██████████| 9/9 [00:31<00:00,  3.53s/it]"
     ]
    },
    {
     "name": "stdout",
     "output_type": "stream",
     "text": [
      " \n"
     ]
    },
    {
     "name": "stderr",
     "output_type": "stream",
     "text": [
      "\n"
     ]
    },
    {
     "data": {
      "text/plain": [
       "<Figure size 640x480 with 1 Axes>"
      ]
     },
     "metadata": {},
     "output_type": "display_data"
    },
    {
     "data": {
      "text/plain": [
       "<Figure size 640x480 with 1 Axes>"
      ]
     },
     "metadata": {},
     "output_type": "display_data"
    },
    {
     "data": {
      "text/plain": [
       "<Figure size 640x480 with 1 Axes>"
      ]
     },
     "metadata": {},
     "output_type": "display_data"
    },
    {
     "data": {
      "text/plain": [
       "<Figure size 640x480 with 1 Axes>"
      ]
     },
     "metadata": {},
     "output_type": "display_data"
    },
    {
     "data": {
      "text/plain": [
       "<Figure size 640x480 with 1 Axes>"
      ]
     },
     "metadata": {},
     "output_type": "display_data"
    },
    {
     "data": {
      "text/plain": [
       "<Figure size 640x480 with 1 Axes>"
      ]
     },
     "metadata": {},
     "output_type": "display_data"
    },
    {
     "data": {
      "text/plain": [
       "<Figure size 640x480 with 1 Axes>"
      ]
     },
     "metadata": {},
     "output_type": "display_data"
    }
   ],
   "source": [
    "import sys\n",
    "sys.path.append('..')\n",
    "from optalg.cores.loss import *\n",
    "from optalg.cores.utils import *\n",
    "from optalg.cores.data import *\n",
    "from optalg.cores.optimize import GD, AGD, SGD, MBSGD, SVRG, LBFGS\n",
    "\n",
    "# from cores.data import *\n",
    "# from cores.optimize import *\n",
    "# from cores.loss import *\n",
    "# from cores.utils import *\n",
    "# from settings.setup_algorithm import *\n",
    "# from settings.setting_optimization import *\n",
    "from optalg.cores.initialize import *\n",
    "%matplotlib inline\n",
    "\n",
    "# Example setting\n",
    "\n",
    "params = {\n",
    "    \"data_name\": DataMNIST,\n",
    "    \"seed\": 200,\n",
    "    \"reg\": 1e-4,\n",
    "    \"tau\": 0,\n",
    "    \"stepsize\": .1,\n",
    "    \"max_iter\": 10,\n",
    "    \"a\": 0.1,\n",
    "    \"b\": 0.9,\n",
    "    \"init_method\": init_zero,\n",
    "    \"alpha\": 1.,\n",
    "    \"is_mcr\": True,\n",
    "    \"is_numgrad\": True,\n",
    "    \"is_save\": False,\n",
    "    \"m\": 10,\n",
    "    \"batch\": 1000,\n",
    "}\n",
    "\n",
    "# file_name = []\n",
    "# for key, val in params.items():\n",
    "#     if key == \"init_method\":\n",
    "#         val = val.__name__\n",
    "#     if key in [\"seed\", \"reg\", \"stepsize\", \"max_iter\",\"init_param\"]:\n",
    "#         file_name.append(key)\n",
    "#         file_name.append(str(val))\n",
    "# file_name = params['data_name'].__name__+'_'+'_'.join(file_name)\n",
    "funcs = (func_lr_mc,  grad_lr_mc, None)\n",
    "\n",
    "opt_algorithms = [\n",
    "    (\"GD\", \"+\", GD(linesearch=constantstep, max_iter=params['max_iter'], reg=params['reg'], stepsize=params['stepsize'], info='GD')),\n",
    "    (\"AGD\", \"*\", AGD(linesearch=constantstep, max_iter=params['max_iter'], reg=params['reg'],stepsize=params['stepsize'], info='AGD')),\n",
    "    (\"SGD\", \".\", SGD(linesearch=decreasingstep2, max_iter=params['max_iter'], reg=params['reg']*.1,stepsize=params['stepsize'], info='SGD')),\n",
    "    (\"Minibatch-SGD\", \"d\", MBSGD(linesearch=decreasingstep2, max_iter=params['max_iter'], reg=params['reg'],stepsize=params['stepsize'], batch=params['batch'], info='MBSGD')),\n",
    "    (\"SVRG\", \"+\", SVRG(linesearch=constantstep, max_iter=params['max_iter'], reg=params['reg'],stepsize=params['stepsize']*.1, m=params['m'], info='SVRG')),\n",
    "    (\"L-BFGS\",\"*\", LBFGS(linesearch=btls, max_iter=params['max_iter'], reg=params['reg'],stepsize=params['stepsize'], info='LBFGS')),\n",
    "]\n",
    "\n",
    "\n",
    "plots = [\n",
    "    {\"ylabel\": \"tr_errors\", \"xlabel\": \"times\",\n",
    "     \"yscale\":\"log\", \"title\": \"train loss\", \"xlim\": False},\n",
    "    {\"ylabel\": \"tr_errors\", \"xlabel\": \"iteration\",\n",
    "     \"yscale\":\"log\", \"title\": \"train loss\", \"xlim\": False},\n",
    "    {\"ylabel\": \"tr_errors\", \"xlabel\": \"num_grads\",\n",
    "     \"yscale\":\"log\", \"title\": \"train loss\", \"xlim\": False},\n",
    "\n",
    "    {\"ylabel\": \"te_errors\", \"xlabel\": \"iteration\",\n",
    "     \"yscale\":\"log\", \"title\": \"test loss\", \"xlim\": False},\n",
    "\n",
    "    {\"ylabel\": \"mcrs\", \"xlabel\": \"times\",\n",
    "     \"yscale\":\"log\", \"title\": \"mis classification rate\", \"xlim\": False},\n",
    "    {\"ylabel\": \"mcrs\", \"xlabel\": \"iteration\",\n",
    "     \"yscale\":\"log\", \"title\": \"mis classification rate\", \"xlim\": False},\n",
    "    {\"ylabel\": \"mcrs\", \"xlabel\": \"num_grads\",\n",
    "     \"yscale\": \"log\", \"title\": \"mis classification rate\", \"xlim\": False},\n",
    "]\n",
    "\n",
    "# algorithms = [\n",
    "#     # {\"method\": \"lbfgs\", \"m\":5, \"linesearch\": btls, \"description\": \"lbfgs_m_5\",\n",
    "#     #  \"marker\": \"+\", \"stepsize\": params['stepsize'],\n",
    "#     #  \"max_iter\": params[\"max_iter\"]},\n",
    "#     #\n",
    "#     # {\"method\": \"lbfgs\", \"m\":10, \"linesearch\":btls, \"description\": \"lbfgs_m_10\",\n",
    "#     #  \"marker\":\"*\", \"stepsize\":params['stepsize'],\n",
    "#     #  \"max_iter\": params[\"max_iter\"]},\n",
    "#\n",
    "#     # {\"method\": \"lbfgs\", \"m\": 20, \"linesearch\": constantstep, \"description\": \"lbfgs_m_20\",\n",
    "#     #  \"marker\": \"*\", \"stepsize\": params['stepsize'],\n",
    "#     #  \"max_iter\": params[\"max_iter\"]},\n",
    "#\n",
    "#     {\"method\": \"gd\", \"linesearch\": constantstep, \"description\": \"gd\",\n",
    "#      \"marker\": \"+\", \"stepsize\": params['stepsize'],\n",
    "#      \"max_iter\": params[\"max_iter\"]},\n",
    "#\n",
    "#     {\"method\": \"agd\", \"linesearch\": constantstep, \"description\": \"agd\",\n",
    "#      \"marker\": \"*\", \"stepsize\": params['stepsize'],\n",
    "#      \"max_iter\": params[\"max_iter\"]},\n",
    "#\n",
    "#     # {\"method\": \"sgd\", \"linesearch\": decreasingstep2, \"description\": \"sgd\",\n",
    "#     #  \"marker\": \"*\", \"stepsize\": params['stepsize'],\n",
    "#     #  \"max_iter\": params[\"max_iter\"]*2},\n",
    "#\n",
    "#     # {\"method\": \"svrg\", \"linesearch\": constantstep, \"description\":\"svrg\",\n",
    "#     #  \"marker\": \".\", \"stepsize\" : params['stepsize'],\n",
    "#     #  \"max_iter\": params[\"max_iter\"], \"m\": 10},\n",
    "#\n",
    "#     # {\"method\": \"mbsgd\", \"linesearch\":decreasingstep2, \"description\":\"mbsgd_1000\",\n",
    "#     #  \"marker\": \"d\", \"stepsize\":params['stepsize'],\n",
    "#     #  \"max_iter\": params[\"max_iter\"], \"batch\":1000},\n",
    "#     #\n",
    "#     # {\"method\": \"mbsgd\", \"linesearch\":decreasingstep2, \"description\":\"mbsgd_2000\",\n",
    "#     #  \"marker\": \"d\", \"stepsize\":params['stepsize'],\n",
    "#     #  \"max_iter\": params[\"max_iter\"], \"batch\":2000}\n",
    "# ]\n",
    "#\n",
    "# for algo in algorithms:\n",
    "#     name = []\n",
    "#     for key, val in algo.items():\n",
    "#         if (key != \"marker\") and (key != \"description\"):\n",
    "#             if key == \"linesearch\":\n",
    "#                 val = val.__name__\n",
    "#             name.append(key)\n",
    "#             name.append(str(val))\n",
    "#     algo['name'] = '_'.join(name)\n",
    "#\n",
    "\n",
    "#\n",
    "\n",
    "dataset = params['data_name']()\n",
    "data = dataset.load_data()\n",
    "\n",
    "results = []\n",
    "for name, marker, algorithm in opt_algorithms:\n",
    "    print(f'{name}')\n",
    "    res = algorithm.solve(data=data, funcs=funcs)\n",
    "    res[\"marker\"] = marker\n",
    "    res[\"name\"]=name\n",
    "    if params[\"is_mcr\"]:\n",
    "        res[\"mcrs\"] = missclassrate(data['test'], res['betas'])\n",
    "    if params[\"is_numgrad\"]:\n",
    "        res[\"num_grad\"] = algorithm.num_grad(data['train'])\n",
    "    results.append(res)\n",
    "\n",
    "\n",
    "# collect results\n",
    "outputs = {'tr_errors': [res['tr_errors'] for res in results],\n",
    "           'te_errors': [res['te_errors'] for res in results],\n",
    "           'times': [res['times'] for res in results],\n",
    "           'markers': [res['marker'] for res in results],\n",
    "           'names': [res['name'] for res in results],\n",
    "           'is_save': params['is_save']}\n",
    "if params[\"is_mcr\"]:\n",
    "    outputs['mcrs'] = [res['mcrs'] for res in results]\n",
    "if params[\"is_numgrad\"]:\n",
    "    outputs['num_grads'] = [res['num_grad'] for res in results]\n",
    "\n",
    "# plot results\n",
    "for plot in plots:\n",
    "    plotresult(plot, outputs)\n"
   ]
  },
  {
   "cell_type": "code",
   "execution_count": null,
   "metadata": {},
   "outputs": [],
   "source": []
  }
 ],
 "metadata": {
  "kernelspec": {
   "display_name": "Python 3",
   "language": "python",
   "name": "python3"
  },
  "language_info": {
   "codemirror_mode": {
    "name": "ipython",
    "version": 3
   },
   "file_extension": ".py",
   "mimetype": "text/x-python",
   "name": "python",
   "nbconvert_exporter": "python",
   "pygments_lexer": "ipython3",
   "version": "3.7.5"
  }
 },
 "nbformat": 4,
 "nbformat_minor": 2
}
